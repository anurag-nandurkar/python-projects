{
 "cells": [
  {
   "cell_type": "code",
   "execution_count": 10,
   "id": "247b1b45-7cf7-432c-9d17-ffdc6581456d",
   "metadata": {},
   "outputs": [
    {
     "name": "stdout",
     "output_type": "stream",
     "text": [
      "Recipe Manager Menu:\n",
      "1. Add Recipe\n",
      "2. View All Recipes\n",
      "3. Exit\n"
     ]
    },
    {
     "name": "stdin",
     "output_type": "stream",
     "text": [
      "Choose an option (1/2/3):  2\n"
     ]
    },
    {
     "name": "stdout",
     "output_type": "stream",
     "text": [
      "Recipe List:\n",
      "1. bamka\n",
      "\n"
     ]
    },
    {
     "name": "stdin",
     "output_type": "stream",
     "text": [
      "Enter the recipe number to view details (or 0 to cancel):  1\n"
     ]
    },
    {
     "name": "stdout",
     "output_type": "stream",
     "text": [
      "\n",
      "Recipe Details for 'bamka':\n",
      "Ingredients:\n",
      "  - vv\n",
      "Instructions: cook\n",
      "\n",
      "Recipe Manager Menu:\n",
      "1. Add Recipe\n",
      "2. View All Recipes\n",
      "3. Exit\n"
     ]
    },
    {
     "name": "stdin",
     "output_type": "stream",
     "text": [
      "Choose an option (1/2/3):  2\n"
     ]
    },
    {
     "name": "stdout",
     "output_type": "stream",
     "text": [
      "Recipe List:\n",
      "1. bamka\n",
      "\n"
     ]
    },
    {
     "name": "stdin",
     "output_type": "stream",
     "text": [
      "Enter the recipe number to view details (or 0 to cancel):  1\n"
     ]
    },
    {
     "name": "stdout",
     "output_type": "stream",
     "text": [
      "\n",
      "Recipe Details for 'bamka':\n",
      "Ingredients:\n",
      "  - vv\n",
      "Instructions: cook\n",
      "\n",
      "Recipe Manager Menu:\n",
      "1. Add Recipe\n",
      "2. View All Recipes\n",
      "3. Exit\n"
     ]
    },
    {
     "name": "stdin",
     "output_type": "stream",
     "text": [
      "Choose an option (1/2/3):  3\n"
     ]
    },
    {
     "name": "stdout",
     "output_type": "stream",
     "text": [
      "Exiting Recipe Manager. Goodbye!\n"
     ]
    }
   ],
   "source": [
    "### import json\n",
    "import os\n",
    "\n",
    "# Initialize the recipes.json file if it does not exist\n",
    "def init_data_file():\n",
    "    if not os.path.exists('recipes.json'):\n",
    "        with open('recipes.json', 'w') as file:\n",
    "            json.dump({'recipes': []}, file)\n",
    "    else:\n",
    "        # Check if the file is empty and initialize it\n",
    "        with open('recipes.json', 'r+') as file:\n",
    "            if file.read().strip() == \"\":\n",
    "                file.seek(0)\n",
    "                json.dump({'recipes': []}, file)\n",
    "\n",
    "# Load existing data from the JSON file\n",
    "def load_data():\n",
    "    with open('recipes.json', 'r') as file:\n",
    "        return json.load(file)\n",
    "\n",
    "# Save data to the JSON file\n",
    "def save_data(data):\n",
    "    with open('recipes.json', 'w') as file:  # Fixed this line\n",
    "        json.dump(data, file, indent=4)\n",
    "\n",
    "# Function to add a new recipe\n",
    "def add_recipe(data):\n",
    "    name = input(\"Enter recipe name: \")\n",
    "    ingredients = input(\"Enter ingredients (comma-separated): \").split(',')\n",
    "    instructions = input(\"Enter instructions: \")\n",
    "    recipe = {\n",
    "        \"name\": name.strip(),\n",
    "        \"ingredients\": [item.strip() for item in ingredients],\n",
    "        \"instructions\": instructions.strip()\n",
    "    }\n",
    "    data['recipes'].append(recipe)\n",
    "    save_data(data)\n",
    "    print(f\"Recipe '{name}' added successfully!\\n\")\n",
    "\n",
    "# Function to view all recipes\n",
    "# Function to view all recipe names and then display details of a chosen recipe\n",
    "def view_all_recipes(data):\n",
    "    if not data['recipes']:\n",
    "        print(\"No recipes found.\\n\")\n",
    "        return\n",
    "\n",
    "    # Display all recipe names with index numbers\n",
    "    print(\"Recipe List:\")\n",
    "    for i, recipe in enumerate(data['recipes'], start=1):\n",
    "        print(f\"{i}. {recipe['name']}\")\n",
    "    print()\n",
    "\n",
    "    # Get user choice to view details\n",
    "    try:\n",
    "        choice = int(input(\"Enter the recipe number to view details (or 0 to cancel): \"))\n",
    "        if choice == 0:\n",
    "            print(\"Returning to the main menu.\\n\")\n",
    "            return\n",
    "\n",
    "        # Validate the choice\n",
    "        if 1 <= choice <= len(data['recipes']):\n",
    "            selected_recipe = data['recipes'][choice - 1]\n",
    "            print(f\"\\nRecipe Details for '{selected_recipe['name']}':\")\n",
    "            print(\"Ingredients:\")\n",
    "            for ingredient in selected_recipe['ingredients']:\n",
    "                print(f\"  - {ingredient}\")\n",
    "            print(f\"Instructions: {selected_recipe['instructions']}\\n\")\n",
    "        else:\n",
    "            print(\"Invalid recipe number. Please try again.\\n\")\n",
    "\n",
    "    except ValueError:\n",
    "        print(\"Invalid input. Please enter a valid number.\\n\")\n",
    "\n",
    "\n",
    "# Main menu function\n",
    "def menu():\n",
    "    init_data_file()\n",
    "    data = load_data()\n",
    "    \n",
    "    while True:\n",
    "        print(\"Recipe Manager Menu:\")\n",
    "        print(\"1. Add Recipe\")\n",
    "        print(\"2. View All Recipes\")\n",
    "        print(\"3. Exit\")\n",
    "        choice = input(\"Choose an option (1/2/3): \")\n",
    "        \n",
    "        if choice == '1':\n",
    "            add_recipe(data)\n",
    "        elif choice == '2':\n",
    "            view_all_recipes(data)\n",
    "        elif choice == '3':\n",
    "            print(\"Exiting Recipe Manager. Goodbye!\")\n",
    "            break\n",
    "        else:\n",
    "            print(\"Invalid choice. Please try again.\\n\")\n",
    "\n",
    "# Example to test\n",
    "if __name__ == \"__main__\":\n",
    "    menu()\n"
   ]
  },
  {
   "cell_type": "code",
   "execution_count": null,
   "id": "634d47f0-0875-4e5f-b804-62f49830978f",
   "metadata": {},
   "outputs": [],
   "source": []
  }
 ],
 "metadata": {
  "kernelspec": {
   "display_name": "Python 3 (ipykernel)",
   "language": "python",
   "name": "python3"
  },
  "language_info": {
   "codemirror_mode": {
    "name": "ipython",
    "version": 3
   },
   "file_extension": ".py",
   "mimetype": "text/x-python",
   "name": "python",
   "nbconvert_exporter": "python",
   "pygments_lexer": "ipython3",
   "version": "3.12.4"
  }
 },
 "nbformat": 4,
 "nbformat_minor": 5
}
